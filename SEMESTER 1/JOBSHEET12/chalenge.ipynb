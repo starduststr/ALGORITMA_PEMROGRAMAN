{
  "nbformat": 4,
  "nbformat_minor": 0,
  "metadata": {
    "colab": {
      "provenance": []
    },
    "kernelspec": {
      "name": "python3",
      "display_name": "Python 3"
    },
    "language_info": {
      "name": "python"
    }
  },
  "cells": [
    {
      "cell_type": "code",
      "execution_count": null,
      "metadata": {
        "colab": {
          "base_uri": "https://localhost:8080/"
        },
        "id": "LDj5goX_L0SF",
        "outputId": "0971ded3-efd0-4bc2-8633-50e1e5b51856"
      },
      "outputs": [
        {
          "output_type": "stream",
          "name": "stdout",
          "text": [
            "Masukan nilai n : 9\n",
            "1A\n",
            "3AAA\n",
            "5AAAAA\n",
            "7AAAAAAA\n",
            "9AAAAAAAAA\n",
            "Zero!\n"
          ]
        }
      ],
      "source": [
        "data = []\n",
        "def rekursif(n):\n",
        "  if n <= 0:\n",
        "    for x in reversed(data):\n",
        "      print(x)\n",
        "    print(\"Zero!\")\n",
        "  else:\n",
        "    data.append(\"{}{}\".format(n,\"A\"*n))\n",
        "    rekursif(n-2)\n",
        "\n",
        "def main():\n",
        "  n = eval(input(\"Masukan nilai n : \"))\n",
        "  rekursif(n)\n",
        "main()"
      ]
    },
    {
      "cell_type": "markdown",
      "source": [
        "Menggunakan reversed list"
      ],
      "metadata": {
        "id": "emiRqoPzdM_n"
      }
    },
    {
      "cell_type": "code",
      "source": [
        "def rekursif(n,c=1):\n",
        "  if n <= 0:\n",
        "    print(\"Zero!\")\n",
        "  else:\n",
        "    x = n-c\n",
        "    print(n-x,\"A\"*(n-x))\n",
        "    rekursif(n-2,c+2)\n",
        "\n",
        "def main():\n",
        "  n = eval(input(\"Masukan nilai n : \"))\n",
        "  rekursif(n)\n",
        "main()"
      ],
      "metadata": {
        "colab": {
          "base_uri": "https://localhost:8080/"
        },
        "id": "6k5bNsJEdMRY",
        "outputId": "d10fcd80-edb9-48ad-ace1-e742855bb01c"
      },
      "execution_count": null,
      "outputs": [
        {
          "output_type": "stream",
          "name": "stdout",
          "text": [
            "Masukan nilai n : 12\n",
            "1 A\n",
            "3 AAA\n",
            "5 AAAAA\n",
            "7 AAAAAAA\n",
            "9 AAAAAAAAA\n",
            "11 AAAAAAAAAAA\n",
            "Zero!\n"
          ]
        }
      ]
    }
  ]
}